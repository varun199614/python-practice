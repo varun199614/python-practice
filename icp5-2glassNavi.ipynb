{
 "cells": [
  {
   "cell_type": "code",
   "execution_count": 70,
   "id": "3d29c156-de4c-4a58-947d-8ba2b21e86c9",
   "metadata": {},
   "outputs": [],
   "source": [
    "#imported pandas to read, perform data cleaning and analysis task, write and save back to csv file\n",
    "import pandas as pd\n",
    "#importing function to split data by ratio\n",
    "from sklearn.model_selection import train_test_split\n",
    "#importing GaussionNB object to fit into the model\n",
    "from sklearn.naive_bayes import GaussianNB\n",
    "#function to calculate classification_report and truth table\n",
    "from sklearn import metrics\n",
    "#reading glass data set\n",
    "train_df = pd.read_csv(\"/Users/venkatavarunnelakuditi/Downloads/icp-5-varunnh7t-master/Dataset/glass.csv\")"
   ]
  },
  {
   "cell_type": "code",
   "execution_count": 71,
   "id": "09cfd0c5-84a5-4948-bba7-16635877636a",
   "metadata": {},
   "outputs": [
    {
     "name": "stdout",
     "output_type": "stream",
     "text": [
      "['RI' 'Na' 'Mg' 'Al' 'Si' 'K' 'Ca' 'Ba' 'Fe' 'Type']\n"
     ]
    }
   ],
   "source": [
    "#knowing about column names\n",
    "print(train_df.columns.values)"
   ]
  },
  {
   "cell_type": "code",
   "execution_count": 72,
   "id": "b43cc799-2c63-4f0b-9466-e674afe45509",
   "metadata": {},
   "outputs": [
    {
     "data": {
      "text/html": [
       "<div>\n",
       "<style scoped>\n",
       "    .dataframe tbody tr th:only-of-type {\n",
       "        vertical-align: middle;\n",
       "    }\n",
       "\n",
       "    .dataframe tbody tr th {\n",
       "        vertical-align: top;\n",
       "    }\n",
       "\n",
       "    .dataframe thead th {\n",
       "        text-align: right;\n",
       "    }\n",
       "</style>\n",
       "<table border=\"1\" class=\"dataframe\">\n",
       "  <thead>\n",
       "    <tr style=\"text-align: right;\">\n",
       "      <th></th>\n",
       "      <th>RI</th>\n",
       "      <th>Na</th>\n",
       "      <th>Mg</th>\n",
       "      <th>Al</th>\n",
       "      <th>Si</th>\n",
       "      <th>K</th>\n",
       "      <th>Ca</th>\n",
       "      <th>Ba</th>\n",
       "      <th>Fe</th>\n",
       "      <th>Type</th>\n",
       "    </tr>\n",
       "  </thead>\n",
       "  <tbody>\n",
       "    <tr>\n",
       "      <th>0</th>\n",
       "      <td>1.52101</td>\n",
       "      <td>13.64</td>\n",
       "      <td>4.49</td>\n",
       "      <td>1.10</td>\n",
       "      <td>71.78</td>\n",
       "      <td>0.06</td>\n",
       "      <td>8.75</td>\n",
       "      <td>0.0</td>\n",
       "      <td>0.0</td>\n",
       "      <td>1</td>\n",
       "    </tr>\n",
       "    <tr>\n",
       "      <th>1</th>\n",
       "      <td>1.51761</td>\n",
       "      <td>13.89</td>\n",
       "      <td>3.60</td>\n",
       "      <td>1.36</td>\n",
       "      <td>72.73</td>\n",
       "      <td>0.48</td>\n",
       "      <td>7.83</td>\n",
       "      <td>0.0</td>\n",
       "      <td>0.0</td>\n",
       "      <td>1</td>\n",
       "    </tr>\n",
       "    <tr>\n",
       "      <th>2</th>\n",
       "      <td>1.51618</td>\n",
       "      <td>13.53</td>\n",
       "      <td>3.55</td>\n",
       "      <td>1.54</td>\n",
       "      <td>72.99</td>\n",
       "      <td>0.39</td>\n",
       "      <td>7.78</td>\n",
       "      <td>0.0</td>\n",
       "      <td>0.0</td>\n",
       "      <td>1</td>\n",
       "    </tr>\n",
       "    <tr>\n",
       "      <th>3</th>\n",
       "      <td>1.51766</td>\n",
       "      <td>13.21</td>\n",
       "      <td>3.69</td>\n",
       "      <td>1.29</td>\n",
       "      <td>72.61</td>\n",
       "      <td>0.57</td>\n",
       "      <td>8.22</td>\n",
       "      <td>0.0</td>\n",
       "      <td>0.0</td>\n",
       "      <td>1</td>\n",
       "    </tr>\n",
       "    <tr>\n",
       "      <th>4</th>\n",
       "      <td>1.51742</td>\n",
       "      <td>13.27</td>\n",
       "      <td>3.62</td>\n",
       "      <td>1.24</td>\n",
       "      <td>73.08</td>\n",
       "      <td>0.55</td>\n",
       "      <td>8.07</td>\n",
       "      <td>0.0</td>\n",
       "      <td>0.0</td>\n",
       "      <td>1</td>\n",
       "    </tr>\n",
       "  </tbody>\n",
       "</table>\n",
       "</div>"
      ],
      "text/plain": [
       "        RI     Na    Mg    Al     Si     K    Ca   Ba   Fe  Type\n",
       "0  1.52101  13.64  4.49  1.10  71.78  0.06  8.75  0.0  0.0     1\n",
       "1  1.51761  13.89  3.60  1.36  72.73  0.48  7.83  0.0  0.0     1\n",
       "2  1.51618  13.53  3.55  1.54  72.99  0.39  7.78  0.0  0.0     1\n",
       "3  1.51766  13.21  3.69  1.29  72.61  0.57  8.22  0.0  0.0     1\n",
       "4  1.51742  13.27  3.62  1.24  73.08  0.55  8.07  0.0  0.0     1"
      ]
     },
     "execution_count": 72,
     "metadata": {},
     "output_type": "execute_result"
    }
   ],
   "source": [
    "#looking top 5 records\n",
    "train_df.head()"
   ]
  },
  {
   "cell_type": "code",
   "execution_count": 73,
   "id": "5b8e2034-b33b-4f5d-baa6-3295ae0f5d33",
   "metadata": {},
   "outputs": [
    {
     "name": "stdout",
     "output_type": "stream",
     "text": [
      "<class 'pandas.core.frame.DataFrame'>\n",
      "RangeIndex: 214 entries, 0 to 213\n",
      "Data columns (total 10 columns):\n",
      " #   Column  Non-Null Count  Dtype  \n",
      "---  ------  --------------  -----  \n",
      " 0   RI      214 non-null    float64\n",
      " 1   Na      214 non-null    float64\n",
      " 2   Mg      214 non-null    float64\n",
      " 3   Al      214 non-null    float64\n",
      " 4   Si      214 non-null    float64\n",
      " 5   K       214 non-null    float64\n",
      " 6   Ca      214 non-null    float64\n",
      " 7   Ba      214 non-null    float64\n",
      " 8   Fe      214 non-null    float64\n",
      " 9   Type    214 non-null    int64  \n",
      "dtypes: float64(9), int64(1)\n",
      "memory usage: 16.8 KB\n"
     ]
    }
   ],
   "source": [
    "#looking into data types and null values of different columns\n",
    "train_df.info()"
   ]
  },
  {
   "cell_type": "code",
   "execution_count": 74,
   "id": "85ed34d6-864a-4cb7-a565-e0b0b5b55ecd",
   "metadata": {},
   "outputs": [],
   "source": [
    "\"droping target value from dataset\"\n",
    "X_train = train_df.drop([\"Type\"],axis=1)"
   ]
  },
  {
   "cell_type": "code",
   "execution_count": 75,
   "id": "5867e4d2-0fef-437a-a6d3-7b4dc82197fa",
   "metadata": {},
   "outputs": [],
   "source": [
    "\"feeding target value into y_train varible\"\n",
    "Y_train = train_df[\"Type\"]"
   ]
  },
  {
   "cell_type": "code",
   "execution_count": 76,
   "id": "c0827cf3-877a-4bfc-87e6-2feae67f780e",
   "metadata": {},
   "outputs": [
    {
     "name": "stdout",
     "output_type": "stream",
     "text": [
      "          RI     Na    Mg    Al     Si     K    Ca   Ba    Fe\n",
      "16   1.51784  12.68  3.67  1.16  73.11  0.61  8.70  0.0  0.00\n",
      "135  1.51789  13.19  3.90  1.30  72.33  0.55  8.44  0.0  0.28\n",
      "122  1.51687  13.23  3.54  1.48  72.84  0.56  8.10  0.0  0.00\n",
      "22   1.51736  12.78  3.62  1.29  72.79  0.59  8.70  0.0  0.00\n",
      "80   1.51592  12.86  3.52  2.12  72.66  0.69  7.97  0.0  0.00\n",
      "..       ...    ...   ...   ...    ...   ...   ...  ...   ...\n",
      "67   1.52152  13.05  3.65  0.87  72.32  0.19  9.85  0.0  0.17\n",
      "192  1.51623  14.20  0.00  2.79  73.46  0.04  9.04  0.4  0.09\n",
      "117  1.51708  13.72  3.68  1.81  72.06  0.64  7.88  0.0  0.00\n",
      "47   1.52667  13.99  3.70  0.71  71.57  0.02  9.82  0.0  0.10\n",
      "172  1.51321  13.00  0.00  3.02  70.70  6.21  6.93  0.0  0.00\n",
      "\n",
      "[171 rows x 9 columns]\n",
      "          RI     Na    Mg    Al     Si     K     Ca    Ba    Fe\n",
      "197  1.51727  14.70  0.00  2.34  73.28  0.00   8.95  0.66  0.00\n",
      "37   1.51797  12.74  3.48  1.35  72.96  0.64   8.68  0.00  0.00\n",
      "89   1.51640  12.55  3.48  1.87  73.23  0.63   8.08  0.00  0.09\n",
      "176  1.51905  14.00  2.39  1.56  72.37  0.00   9.57  0.00  0.00\n",
      "170  1.52369  13.44  0.00  1.58  72.22  0.32  12.24  0.00  0.00\n",
      "75   1.51590  13.02  3.58  1.51  73.12  0.69   7.96  0.00  0.00\n",
      "96   1.51841  13.02  3.62  1.06  72.34  0.64   9.13  0.00  0.15\n",
      "137  1.51711  12.89  3.62  1.57  72.96  0.61   8.11  0.00  0.00\n",
      "5    1.51596  12.79  3.61  1.62  72.97  0.64   8.07  0.00  0.26\n",
      "83   1.51594  13.09  3.52  1.55  72.87  0.68   8.05  0.00  0.09\n",
      "55   1.51769  12.45  2.71  1.29  73.70  0.56   9.06  0.00  0.24\n",
      "145  1.51839  12.85  3.67  1.24  72.57  0.62   8.68  0.00  0.35\n",
      "160  1.51832  13.33  3.34  1.54  72.14  0.56   8.99  0.00  0.00\n",
      "112  1.52777  12.64  0.00  0.67  72.02  0.06  14.40  0.00  0.00\n",
      "74   1.51596  13.02  3.56  1.54  73.11  0.72   7.90  0.00  0.00\n",
      "202  1.51514  14.85  0.00  2.42  73.72  0.00   8.39  0.56  0.00\n",
      "126  1.51667  12.94  3.61  1.26  72.75  0.56   8.60  0.00  0.00\n",
      "12   1.51589  12.88  3.43  1.40  73.28  0.69   8.05  0.00  0.24\n",
      "153  1.51610  13.42  3.40  1.22  72.69  0.59   8.32  0.00  0.00\n",
      "158  1.51776  13.53  3.41  1.52  72.04  0.58   8.79  0.00  0.00\n",
      "168  1.51666  12.86  0.00  1.83  73.88  0.97  10.17  0.00  0.00\n",
      "141  1.51851  13.20  3.63  1.07  72.83  0.57   8.41  0.09  0.17\n",
      "194  1.51683  14.56  0.00  1.98  73.29  0.00   8.52  1.57  0.07\n",
      "189  1.52365  15.79  1.83  1.31  70.43  0.31   8.61  1.68  0.00\n",
      "144  1.51660  12.99  3.18  1.23  72.97  0.58   8.81  0.00  0.24\n",
      "18   1.51911  13.90  3.73  1.18  72.12  0.06   8.89  0.00  0.00\n",
      "208  1.51640  14.37  0.00  2.74  72.85  0.00   9.45  0.54  0.00\n",
      "15   1.51761  12.81  3.54  1.23  73.24  0.58   8.39  0.00  0.00\n",
      "86   1.51569  13.24  3.49  1.47  73.25  0.38   8.03  0.00  0.00\n",
      "71   1.51848  13.64  3.87  1.27  71.96  0.54   8.32  0.00  0.32\n",
      "7    1.51756  13.15  3.61  1.05  73.24  0.57   8.24  0.00  0.00\n",
      "63   1.52227  14.17  3.81  0.78  71.35  0.00   9.69  0.00  0.00\n",
      "143  1.51709  13.00  3.47  1.79  72.72  0.66   8.18  0.00  0.00\n",
      "97   1.51743  12.20  3.25  1.16  73.55  0.62   8.90  0.00  0.24\n",
      "136  1.51806  13.00  3.80  1.08  73.07  0.56   8.38  0.00  0.12\n",
      "162  1.52211  14.19  3.78  0.91  71.36  0.23   9.14  0.00  0.37\n",
      "33   1.51753  12.57  3.47  1.38  73.39  0.60   8.55  0.00  0.06\n",
      "154  1.51694  12.86  3.58  1.31  72.61  0.61   8.79  0.00  0.00\n",
      "90   1.51841  12.93  3.74  1.11  72.28  0.64   8.96  0.00  0.22\n",
      "191  1.51602  14.85  0.00  2.38  73.28  0.00   8.76  0.64  0.09\n",
      "106  1.53125  10.73  0.00  2.10  69.81  0.58  13.30  3.15  0.28\n",
      "180  1.51299  14.40  1.74  1.54  74.55  0.00   7.59  0.00  0.00\n",
      "139  1.51674  12.87  3.56  1.64  73.14  0.65   7.99  0.00  0.00\n"
     ]
    }
   ],
   "source": [
    "\"spliting dataset to train and test a model\"\n",
    "X_train, X_test, Y_train, Y_test = train_test_split(X_train, Y_train, test_size=0.20, random_state=0)\n",
    "print(X_train)\n",
    "print(X_test)"
   ]
  },
  {
   "cell_type": "code",
   "execution_count": 77,
   "id": "dfca4171-36f7-4068-aa15-45743df8bddd",
   "metadata": {},
   "outputs": [
    {
     "name": "stdout",
     "output_type": "stream",
     "text": [
      "              precision    recall  f1-score   support\n",
      "\n",
      "           1       0.19      0.44      0.27         9\n",
      "           2       0.33      0.16      0.21        19\n",
      "           3       0.33      0.20      0.25         5\n",
      "           5       0.00      0.00      0.00         2\n",
      "           6       0.67      1.00      0.80         2\n",
      "           7       1.00      1.00      1.00         6\n",
      "\n",
      "    accuracy                           0.37        43\n",
      "   macro avg       0.42      0.47      0.42        43\n",
      "weighted avg       0.40      0.37      0.36        43\n",
      "\n",
      "[[ 4  3  1  0  1  0]\n",
      " [14  3  1  1  0  0]\n",
      " [ 3  1  1  0  0  0]\n",
      " [ 0  2  0  0  0  0]\n",
      " [ 0  0  0  0  2  0]\n",
      " [ 0  0  0  0  0  6]]\n"
     ]
    }
   ],
   "source": [
    "#Creating object for the algorithm\n",
    "gnb=GaussianNB()\n",
    "\"fitting dataset into model \"\n",
    "Y_predict=gnb.fit(X_train,Y_train).predict(X_test)\n",
    "\"classification_report for true y_values and predicted Y_values\"\n",
    "print(metrics.classification_report(Y_test,Y_predict))\n",
    "print(metrics.confusion_matrix(Y_test,Y_predict))"
   ]
  },
  {
   "cell_type": "code",
   "execution_count": 78,
   "id": "01b2929c-58f8-41ba-8985-fc48b3da1529",
   "metadata": {},
   "outputs": [
    {
     "data": {
      "text/plain": [
       "0.37209302325581395"
      ]
     },
     "execution_count": 78,
     "metadata": {},
     "output_type": "execute_result"
    }
   ],
   "source": [
    "from sklearn.metrics import accuracy_score\n",
    "#calculting accuracy between true y_values and predicted Y_values\n",
    "accuracy_score(Y_test, Y_predict)"
   ]
  },
  {
   "cell_type": "code",
   "execution_count": 79,
   "id": "a37f6d30-cf4d-4671-aaa0-b3ba58777f94",
   "metadata": {},
   "outputs": [
    {
     "name": "stdout",
     "output_type": "stream",
     "text": [
      "accuracy = 59.06\n"
     ]
    }
   ],
   "source": [
    "acc_score = round(gnb.score(X_train, Y_train) * 100, 2)\n",
    "#calculting accuracy between true y_train data set values and predicted train data set value\n",
    "print(\"accuracy =\", acc_score)"
   ]
  },
  {
   "cell_type": "code",
   "execution_count": null,
   "id": "9ced7520-e25c-4bc6-bb25-9c4d48407180",
   "metadata": {},
   "outputs": [],
   "source": []
  }
 ],
 "metadata": {
  "kernelspec": {
   "display_name": "Python 3 (ipykernel)",
   "language": "python",
   "name": "python3"
  },
  "language_info": {
   "codemirror_mode": {
    "name": "ipython",
    "version": 3
   },
   "file_extension": ".py",
   "mimetype": "text/x-python",
   "name": "python",
   "nbconvert_exporter": "python",
   "pygments_lexer": "ipython3",
   "version": "3.9.6"
  }
 },
 "nbformat": 4,
 "nbformat_minor": 5
}
