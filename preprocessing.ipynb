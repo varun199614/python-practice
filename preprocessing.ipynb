{
 "cells": [
  {
   "cell_type": "code",
   "execution_count": 105,
   "id": "703d3f71-8349-4960-bf14-29d0ec63c341",
   "metadata": {},
   "outputs": [],
   "source": [
    "#imported pandas to read, perform data cleaning and analysis task, write and save back to csv file\n",
    "import pandas as pd\n",
    "import numpy as np\n",
    "import random as rnd"
   ]
  },
  {
   "cell_type": "code",
   "execution_count": 106,
   "id": "f0db6544-fd80-4c9f-86a3-df21a36260c2",
   "metadata": {},
   "outputs": [],
   "source": [
    "#reading data from csv file from the local and saving both data frames to a variable\n",
    "train_df = pd.read_csv('/Users/venkatavarunnelakuditi/Downloads/icp-5-varunnh7t-master/Dataset/train.csv')\n",
    "test_df = pd.read_csv('/Users/venkatavarunnelakuditi/Downloads/icp-5-varunnh7t-master/Dataset/test.csv')\n",
    "combine = [train_df, test_df]"
   ]
  },
  {
   "cell_type": "code",
   "execution_count": 107,
   "id": "df02cf24-69a0-4234-a1ea-3775eb3d7903",
   "metadata": {},
   "outputs": [],
   "source": [
    "#preprocessing file by droping less correlated columns with Survived targeted value from both testing and training dataframes\n",
    "train_df = train_df.drop(['Ticket', 'Cabin','Parch','SibSp'], axis=1)\n",
    "test_df = test_df.drop(['Ticket', 'Cabin','Parch','SibSp'], axis=1)"
   ]
  },
  {
   "cell_type": "code",
   "execution_count": 108,
   "id": "e904fda6-f061-4b43-9b30-0ee828423c80",
   "metadata": {},
   "outputs": [],
   "source": [
    "#preprocessing file by droping less correlated columns with Survived targeted value from both testing and training dataframes\n",
    "train_df = train_df.drop(['Name', 'PassengerId'], axis=1)\n",
    "test_df = test_df.drop(['Name'], axis=1)\n",
    "combine = [train_df, test_df]"
   ]
  },
  {
   "cell_type": "code",
   "execution_count": 109,
   "id": "b448b10d-4bc1-4791-a059-ee23ef8bd0d1",
   "metadata": {},
   "outputs": [
    {
     "name": "stdout",
     "output_type": "stream",
     "text": [
      "Survived      0\n",
      "Pclass        0\n",
      "Sex           0\n",
      "Age         177\n",
      "Fare          0\n",
      "Embarked      2\n",
      "dtype: int64\n"
     ]
    }
   ],
   "source": [
    "#looking in tables null values, to fill them with proper measures\n",
    "print(train_df.isnull().sum())"
   ]
  },
  {
   "cell_type": "code",
   "execution_count": 110,
   "id": "02295907-9354-42d0-bc05-f937f15d9d5e",
   "metadata": {},
   "outputs": [
    {
     "data": {
      "text/plain": [
       "count     889\n",
       "unique      3\n",
       "top         S\n",
       "freq      644\n",
       "Name: Embarked, dtype: object"
      ]
     },
     "execution_count": 110,
     "metadata": {},
     "output_type": "execute_result"
    }
   ],
   "source": [
    "#getting statistical info regarding Embarked column\n",
    "train_df['Embarked'].describe()"
   ]
  },
  {
   "cell_type": "code",
   "execution_count": 111,
   "id": "0d0c3f7f-21a0-48ca-9063-56979ae69ffb",
   "metadata": {},
   "outputs": [],
   "source": [
    "#replacing string values to numaric\n",
    "for dataset in combine:\n",
    "    dataset['Sex'] = dataset['Sex'].map( {'female': 1, 'male': 0} ).astype(int)"
   ]
  },
  {
   "cell_type": "code",
   "execution_count": 112,
   "id": "00a4c334-35b0-4f65-9264-c02b2ed73e21",
   "metadata": {},
   "outputs": [],
   "source": [
    "common_value = 'S'\n",
    "data = [train_df, test_df]\n",
    "#replacing null values with most frequency words\n",
    "for dataset in data:\n",
    "    dataset['Embarked'] = dataset['Embarked'].fillna(common_value)"
   ]
  },
  {
   "cell_type": "code",
   "execution_count": 113,
   "id": "8fca21ec-5cc3-46be-bde5-48c6109a980f",
   "metadata": {},
   "outputs": [],
   "source": [
    "ports = {\"S\": 0, \"C\": 1, \"Q\": 2}\n",
    "data = [train_df, test_df]\n",
    "#replacing string values to numaric\n",
    "\n",
    "for dataset in data:\n",
    "    dataset['Embarked'] = dataset['Embarked'].map(ports)"
   ]
  },
  {
   "cell_type": "code",
   "execution_count": 114,
   "id": "093d58b3-57a9-4204-bcb6-d83bc4b78ad1",
   "metadata": {},
   "outputs": [
    {
     "name": "stdout",
     "output_type": "stream",
     "text": [
      "Mean Age =  29\n"
     ]
    }
   ],
   "source": [
    "#fulling null values with mean\n",
    "meanAge = int(train_df.Age.dropna().mean())\n",
    "print('Mean Age = ', meanAge)"
   ]
  },
  {
   "cell_type": "code",
   "execution_count": 115,
   "id": "9ea9277d-f656-45bc-af19-9c3a17289b50",
   "metadata": {},
   "outputs": [],
   "source": [
    "#replacing null values with mean\n",
    "for dataset in combine:\n",
    "    dataset['Age'] = dataset['Age'].fillna(meanAge)\n",
    "    dataset['Fare'] = dataset['Fare'].fillna(test_df['Fare'].dropna().median())"
   ]
  },
  {
   "cell_type": "code",
   "execution_count": 116,
   "id": "f4eb2a7a-052b-4c28-ab6d-54147ce849f3",
   "metadata": {},
   "outputs": [],
   "source": [
    "#saving the pre-processed data into files\n",
    "combine[0].to_csv('/Users/venkatavarunnelakuditi/Downloads/icp-5-varunnh7t-master/Dataset/train_preprocessed.csv',index=False)\n",
    "combine[1].to_csv('/Users/venkatavarunnelakuditi/Downloads/icp-5-varunnh7t-master/Dataset/test_preprocessed.csv',index=False)"
   ]
  },
  {
   "cell_type": "code",
   "execution_count": 117,
   "id": "fd0a4740-d92f-4679-84b0-3814315d00a2",
   "metadata": {},
   "outputs": [],
   "source": [
    "#reading them back from files\n",
    "train_df = pd.read_csv('/Users/venkatavarunnelakuditi/Downloads/icp-5-varunnh7t-master/Dataset/train_preprocessed.csv')\n",
    "test_df = pd.read_csv('/Users/venkatavarunnelakuditi/Downloads/icp-5-varunnh7t-master/Dataset/test_preprocessed.csv')"
   ]
  },
  {
   "cell_type": "code",
   "execution_count": 118,
   "id": "1b796264-c3c3-4a32-a06f-a08c94e9dfed",
   "metadata": {},
   "outputs": [],
   "source": [
    "#importing navie bias aloritham to generate a model\n",
    "from sklearn.naive_bayes import GaussianNB\n",
    "#importing library to find metrics after fitting them into model\n",
    "from sklearn import metrics\n",
    "\"dropping targeted value from predictors\"\n",
    "X_train = train_df.drop([\"Survived\"],axis=1)\n",
    "X_test=test_df.drop([\"PassengerId\"],axis=1)\n",
    "\"Adding the targeted values into Y variable\"\n",
    "Y_train = train_df[\"Survived\"]\n",
    "\"Creating an Navie bias algoritham object\"\n",
    "gnb=GaussianNB()\n",
    "\n"
   ]
  },
  {
   "cell_type": "code",
   "execution_count": 119,
   "id": "12114599-f5e4-4548-87e0-addeab5467f8",
   "metadata": {},
   "outputs": [],
   "source": [
    "#fitting data into model\n",
    "Y_predict=gnb.fit(X_train,Y_train).predict(X_test)"
   ]
  },
  {
   "cell_type": "code",
   "execution_count": 120,
   "id": "0624b270-74cd-4b44-b79b-d3abd496be03",
   "metadata": {},
   "outputs": [
    {
     "name": "stdout",
     "output_type": "stream",
     "text": [
      "accuracy = 77.67\n"
     ]
    }
   ],
   "source": [
    "#calculating the accuracy of the model \n",
    "acc_score = round(gnb.score(X_train, Y_train) * 100, 2)\n",
    "#accuracy of the model\n",
    "print(\"accuracy =\", acc_score)"
   ]
  },
  {
   "cell_type": "code",
   "execution_count": null,
   "id": "78bb3b46-0b78-4b86-853d-d653a34306b8",
   "metadata": {},
   "outputs": [],
   "source": []
  }
 ],
 "metadata": {
  "kernelspec": {
   "display_name": "Python 3 (ipykernel)",
   "language": "python",
   "name": "python3"
  },
  "language_info": {
   "codemirror_mode": {
    "name": "ipython",
    "version": 3
   },
   "file_extension": ".py",
   "mimetype": "text/x-python",
   "name": "python",
   "nbconvert_exporter": "python",
   "pygments_lexer": "ipython3",
   "version": "3.9.6"
  }
 },
 "nbformat": 4,
 "nbformat_minor": 5
}
