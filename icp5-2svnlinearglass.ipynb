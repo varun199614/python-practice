{
 "cells": [
  {
   "cell_type": "code",
   "execution_count": 35,
   "id": "f2ed5b04-4ab9-44e1-a291-c071be736322",
   "metadata": {},
   "outputs": [],
   "source": [
    "#imported pandas to read, perform data cleaning and analysis task, write and save back to csv file\n",
    "import pandas as pd\n",
    "#importing SVC classiffer algoritham\n",
    "from sklearn.svm import SVC, LinearSVC"
   ]
  },
  {
   "cell_type": "code",
   "execution_count": 36,
   "id": "1312a7f5-0ca9-47e3-a5a8-b087344b75b1",
   "metadata": {},
   "outputs": [],
   "source": [
    "#reading data from dataset\n",
    "train_df = pd.read_csv(\"/Users/venkatavarunnelakuditi/Downloads/icp-5-varunnh7t-master/Dataset/glass.csv\")"
   ]
  },
  {
   "cell_type": "code",
   "execution_count": 37,
   "id": "8585ce3f-e743-46da-84d8-e7fd575957a4",
   "metadata": {},
   "outputs": [
    {
     "name": "stdout",
     "output_type": "stream",
     "text": [
      "RI      0\n",
      "Na      0\n",
      "Mg      0\n",
      "Al      0\n",
      "Si      0\n",
      "K       0\n",
      "Ca      0\n",
      "Ba      0\n",
      "Fe      0\n",
      "Type    0\n",
      "dtype: int64\n",
      "----------\n"
     ]
    }
   ],
   "source": [
    "#looking into null value rows\n",
    "print(train_df.isnull().sum())\n",
    "print('-'*10)"
   ]
  },
  {
   "cell_type": "code",
   "execution_count": 38,
   "id": "2c3eabe2-34b4-4dbb-8937-ac9a14f1b81f",
   "metadata": {},
   "outputs": [],
   "source": [
    "#droping targeted value from training data set\n",
    "X_train = train_df.drop(\"Type\", axis=1)\n",
    "#assigning training dataset to Y_train varible\n",
    "Y_train = train_df[\"Type\"]"
   ]
  },
  {
   "cell_type": "code",
   "execution_count": 39,
   "id": "02ab208f-2796-42f3-bd4d-1d1711ab3a82",
   "metadata": {},
   "outputs": [],
   "source": [
    "#function helps to split dataset in given ratio\n",
    "from sklearn.model_selection import train_test_split\n",
    "#spliting data 8:2 ratio (train: test)\n",
    "X_train, X_test, Y_train, Y_test = train_test_split(X_train, Y_train, test_size=0.2, random_state=0)"
   ]
  },
  {
   "cell_type": "code",
   "execution_count": 45,
   "id": "db4893d2-1035-432c-a49a-aa951526ad6d",
   "metadata": {},
   "outputs": [
    {
     "data": {
      "text/plain": [
       "SVC(kernel='linear', random_state=0)"
      ]
     },
     "execution_count": 45,
     "metadata": {},
     "output_type": "execute_result"
    }
   ],
   "source": [
    "#calling linear SVC algoritham to train\n",
    "svc = SVC(kernel = 'linear', random_state =0)\n",
    "#passinf data to fit in the model\n",
    "svc.fit(X_train, Y_train)"
   ]
  },
  {
   "cell_type": "code",
   "execution_count": 46,
   "id": "ee8bc77b-1c16-4068-94ba-637cc54880b7",
   "metadata": {},
   "outputs": [
    {
     "name": "stdout",
     "output_type": "stream",
     "text": [
      "svm accuracy = 69.59\n"
     ]
    }
   ],
   "source": [
    "#getting y_predict values from the model for the test data\n",
    "Y_pred = svc.predict(X_test)\n",
    "\n",
    "#accuracy score with respective training data\n",
    "acc_svc = round(svc.score(X_train, Y_train) * 100, 2)\n",
    "\n",
    "print(\"svm accuracy =\", acc_svc)"
   ]
  },
  {
   "cell_type": "code",
   "execution_count": 48,
   "id": "4061e727-e581-43d9-85f9-63b8baab48a3",
   "metadata": {},
   "outputs": [
    {
     "data": {
      "text/plain": [
       "0.5116279069767442"
      ]
     },
     "execution_count": 48,
     "metadata": {},
     "output_type": "execute_result"
    }
   ],
   "source": [
    "#accuracy score with respective testing data\n",
    "from sklearn.metrics import accuracy_score\n",
    "accuracy_score(Y_test, Y_pred)"
   ]
  },
  {
   "cell_type": "code",
   "execution_count": 49,
   "id": "6b139069-ff0a-4711-8434-9d92eda9e201",
   "metadata": {},
   "outputs": [
    {
     "name": "stdout",
     "output_type": "stream",
     "text": [
      "              precision    recall  f1-score   support\n",
      "\n",
      "           1       0.36      0.89      0.52         9\n",
      "           2       0.58      0.37      0.45        19\n",
      "           3       0.00      0.00      0.00         5\n",
      "           5       0.50      0.50      0.50         2\n",
      "           6       0.00      0.00      0.00         2\n",
      "           7       0.86      1.00      0.92         6\n",
      "\n",
      "    accuracy                           0.51        43\n",
      "   macro avg       0.38      0.46      0.40        43\n",
      "weighted avg       0.48      0.51      0.46        43\n",
      "\n",
      "[[ 8  1  0  0  0  0]\n",
      " [11  7  0  1  0  0]\n",
      " [ 3  2  0  0  0  0]\n",
      " [ 0  0  0  1  0  1]\n",
      " [ 0  2  0  0  0  0]\n",
      " [ 0  0  0  0  0  6]]\n"
     ]
    },
    {
     "name": "stderr",
     "output_type": "stream",
     "text": [
      "/Library/Frameworks/Python.framework/Versions/3.9/lib/python3.9/site-packages/sklearn/metrics/_classification.py:1308: UndefinedMetricWarning: Precision and F-score are ill-defined and being set to 0.0 in labels with no predicted samples. Use `zero_division` parameter to control this behavior.\n",
      "  _warn_prf(average, modifier, msg_start, len(result))\n",
      "/Library/Frameworks/Python.framework/Versions/3.9/lib/python3.9/site-packages/sklearn/metrics/_classification.py:1308: UndefinedMetricWarning: Precision and F-score are ill-defined and being set to 0.0 in labels with no predicted samples. Use `zero_division` parameter to control this behavior.\n",
      "  _warn_prf(average, modifier, msg_start, len(result))\n",
      "/Library/Frameworks/Python.framework/Versions/3.9/lib/python3.9/site-packages/sklearn/metrics/_classification.py:1308: UndefinedMetricWarning: Precision and F-score are ill-defined and being set to 0.0 in labels with no predicted samples. Use `zero_division` parameter to control this behavior.\n",
      "  _warn_prf(average, modifier, msg_start, len(result))\n"
     ]
    }
   ],
   "source": [
    "from sklearn import metrics\n",
    "\"classification_report for true y_values and predicted Y_values\"\n",
    "print(metrics.classification_report(Y_test,Y_pred))\n",
    "\"confusion_matrix for true y_values and predicted Y_values\"\n",
    "print(metrics.confusion_matrix(Y_test,Y_pred))"
   ]
  },
  {
   "cell_type": "code",
   "execution_count": 53,
   "id": "65d55a32-c976-40ff-b22a-e17345440010",
   "metadata": {},
   "outputs": [
    {
     "data": {
      "text/plain": [
       "<seaborn.axisgrid.FacetGrid at 0x7fc065c9b910>"
      ]
     },
     "execution_count": 53,
     "metadata": {},
     "output_type": "execute_result"
    },
    {
     "data": {
      "image/png": "[encoded data removed]",
      "text/plain": [
       "<Figure size 1296x216 with 6 Axes>"
      ]
     },
     "metadata": {
      "needs_background": "light"
     },
     "output_type": "display_data"
    }
   ],
   "source": [
    "# visualization\n",
    "import seaborn as sns\n",
    "import matplotlib.pyplot as plt\n",
    "#visualization co-relation between RI composition in mixer and type\n",
    "g = sns.FacetGrid(train_df, col='Type')\n",
    "g.map(plt.hist, 'RI', bins=10)"
   ]
  },
  {
   "cell_type": "code",
   "execution_count": 62,
   "id": "e5721dfd-4298-41a2-80b4-1fa64b06ecec",
   "metadata": {},
   "outputs": [
    {
     "data": {
      "text/plain": [
       "<seaborn.axisgrid.FacetGrid at 0x7fc069984cd0>"
      ]
     },
     "execution_count": 62,
     "metadata": {},
     "output_type": "execute_result"
    },
    {
     "data": {
      "image/png": "[encoded data removed]",
      "text/plain": [
       "<Figure size 1296x216 with 6 Axes>"
      ]
     },
     "metadata": {
      "needs_background": "light"
     },
     "output_type": "display_data"
    }
   ],
   "source": [
    "#visualization co-relation between Fe composition in mixer and type\n",
    "g = sns.FacetGrid(train_df, col='Type')\n",
    "g.map(plt.hist, 'Fe', bins=5)"
   ]
  },
  {
   "cell_type": "code",
   "execution_count": null,
   "id": "40aa969a-d50e-49a9-98d9-18a932bba041",
   "metadata": {},
   "outputs": [],
   "source": [
    "Na"
   ]
  }
 ],
 "metadata": {
  "kernelspec": {
   "display_name": "Python 3 (ipykernel)",
   "language": "python",
   "name": "python3"
  },
  "language_info": {
   "codemirror_mode": {
    "name": "ipython",
    "version": 3
   },
   "file_extension": ".py",
   "mimetype": "text/x-python",
   "name": "python",
   "nbconvert_exporter": "python",
   "pygments_lexer": "ipython3",
   "version": "3.9.6"
  }
 },
 "nbformat": 4,
 "nbformat_minor": 5
}
