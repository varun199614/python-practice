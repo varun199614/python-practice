{
 "cells": [
  {
   "cell_type": "code",
   "execution_count": 1,
   "id": "2a318849-b598-4635-b18a-eaef39ea1c06",
   "metadata": {},
   "outputs": [],
   "source": [
    "#bonus\n",
    "#importing libraries to generate a dataframe from csv data and perform preprocrssing \n",
    "#3.Find top 5 most correlated features to the target label(revenue) and then build a model \n",
    "#on top of those 5 features. Evaluate the model using MAE, MSE, RMSE and R2 score and then\n",
    "#compare the result with the RMSE and R2 you achieved in question 2.\n",
    "import pandas as pd\n",
    "import numpy as np"
   ]
  },
  {
   "cell_type": "code",
   "execution_count": 30,
   "id": "05322a0e-24f8-4fbb-8663-f7458bbb2c9f",
   "metadata": {},
   "outputs": [
    {
     "name": "stdout",
     "output_type": "stream",
     "text": [
      "<class 'pandas.core.frame.DataFrame'>\n",
      "Int64Index: 137 entries, 0 to 136\n",
      "Data columns (total 43 columns):\n",
      " #   Column      Non-Null Count  Dtype  \n",
      "---  ------      --------------  -----  \n",
      " 0   Id          137 non-null    int64  \n",
      " 1   Open Date   137 non-null    object \n",
      " 2   City        137 non-null    object \n",
      " 3   City Group  137 non-null    object \n",
      " 4   Type        137 non-null    object \n",
      " 5   P1          137 non-null    int64  \n",
      " 6   P2          137 non-null    float64\n",
      " 7   P3          137 non-null    float64\n",
      " 8   P4          137 non-null    float64\n",
      " 9   P5          137 non-null    int64  \n",
      " 10  P6          137 non-null    int64  \n",
      " 11  P7          137 non-null    int64  \n",
      " 12  P8          137 non-null    int64  \n",
      " 13  P9          137 non-null    int64  \n",
      " 14  P10         137 non-null    int64  \n",
      " 15  P11         137 non-null    int64  \n",
      " 16  P12         137 non-null    int64  \n",
      " 17  P13         137 non-null    float64\n",
      " 18  P14         137 non-null    int64  \n",
      " 19  P15         137 non-null    int64  \n",
      " 20  P16         137 non-null    int64  \n",
      " 21  P17         137 non-null    int64  \n",
      " 22  P18         137 non-null    int64  \n",
      " 23  P19         137 non-null    int64  \n",
      " 24  P20         137 non-null    int64  \n",
      " 25  P21         137 non-null    int64  \n",
      " 26  P22         137 non-null    int64  \n",
      " 27  P23         137 non-null    int64  \n",
      " 28  P24         137 non-null    int64  \n",
      " 29  P25         137 non-null    int64  \n",
      " 30  P26         137 non-null    float64\n",
      " 31  P27         137 non-null    float64\n",
      " 32  P28         137 non-null    float64\n",
      " 33  P29         137 non-null    float64\n",
      " 34  P30         137 non-null    int64  \n",
      " 35  P31         137 non-null    int64  \n",
      " 36  P32         137 non-null    int64  \n",
      " 37  P33         137 non-null    int64  \n",
      " 38  P34         137 non-null    int64  \n",
      " 39  P35         137 non-null    int64  \n",
      " 40  P36         137 non-null    int64  \n",
      " 41  P37         137 non-null    int64  \n",
      " 42  revenue     137 non-null    float64\n",
      "dtypes: float64(9), int64(30), object(4)\n",
      "memory usage: 47.1+ KB\n"
     ]
    }
   ],
   "source": [
    "#generating dataframe using csv file\n",
    "train = pd.read_csv('train.csv').dropna()\n",
    "#top 5 rows\n",
    "train.info()"
   ]
  },
  {
   "cell_type": "code",
   "execution_count": 31,
   "id": "aaa9e353-b290-4318-bc65-99a8a00257d7",
   "metadata": {},
   "outputs": [
    {
     "name": "stdout",
     "output_type": "stream",
     "text": [
      "Positive Correlation:\n",
      "revenue    1.000000\n",
      "P2         0.191518\n",
      "P28        0.155534\n",
      "P6         0.139094\n",
      "P21        0.097411\n",
      "P11        0.084247\n",
      "P22        0.083562\n",
      "P1         0.070217\n",
      "P17        0.067137\n",
      "P7         0.051165\n",
      "P23        0.045507\n",
      "P25        0.036365\n",
      "P4         0.035685\n",
      "P19        0.027984\n",
      "P24        0.014222\n",
      "P20        0.014147\n",
      "P14        0.006441\n",
      "P15        0.000742\n",
      "Id        -0.006277\n",
      "P26       -0.007650\n",
      "P27       -0.013680\n",
      "P37       -0.019051\n",
      "P3        -0.024613\n",
      "P5        -0.028191\n",
      "P33       -0.032426\n",
      "P18       -0.034537\n",
      "P16       -0.037997\n",
      "P31       -0.040418\n",
      "P35       -0.050156\n",
      "P9        -0.050352\n",
      "P36       -0.050534\n",
      "P12       -0.062193\n",
      "P32       -0.065857\n",
      "P30       -0.066203\n",
      "P34       -0.072343\n",
      "P10       -0.073220\n",
      "P8        -0.084215\n",
      "P13       -0.105085\n",
      "P29       -0.114846\n",
      "Name: revenue, dtype: float64 \n",
      "\n",
      "\n",
      "Negative Correlation:\n",
      "P34   -0.072343\n",
      "P10   -0.073220\n",
      "P8    -0.084215\n",
      "P13   -0.105085\n",
      "P29   -0.114846\n",
      "Name: revenue, dtype: float64\n"
     ]
    }
   ],
   "source": [
    "numeric_features = train.select_dtypes(include=[np.number])\n",
    "corr = numeric_features.corr()\n",
    "print(\"Positive Correlation:\")\n",
    "print(corr['revenue'].sort_values(ascending=False)[:], '\\n')\n",
    "print(\"\\nNegative Correlation:\")\n",
    "print(corr['revenue'].sort_values(ascending=False)[-5:])"
   ]
  },
  {
   "cell_type": "code",
   "execution_count": 32,
   "id": "1f609dbc-2788-42d2-a352-d6876a8e249e",
   "metadata": {},
   "outputs": [],
   "source": [
    "#top 5 corelated positive or negitive both features\n",
    "y_train=train['revenue']\n",
    "X_train=train[['P2','P28','P6','P13','P29']]"
   ]
  },
  {
   "cell_type": "code",
   "execution_count": 33,
   "id": "112ccdba-80ff-4935-aabd-49f07b6b10ed",
   "metadata": {},
   "outputs": [],
   "source": [
    "#training the model\n",
    "from sklearn import linear_model\n",
    "lr = linear_model.LinearRegression()\n",
    "model = lr.fit(X_train, y_train)\n",
    "predictions=model.predict(X_train)"
   ]
  },
  {
   "cell_type": "code",
   "execution_count": 34,
   "id": "ad9f43e7-91fc-4717-8405-4cd5376859b7",
   "metadata": {},
   "outputs": [
    {
     "data": {
      "image/png": "[encoded data removed]",
      "text/plain": [
       "<Figure size 432x288 with 1 Axes>"
      ]
     },
     "metadata": {
      "needs_background": "light"
     },
     "output_type": "display_data"
    }
   ],
   "source": [
    "import matplotlib.pyplot as plt\n",
    "plt.scatter(predictions, y_train, color='b')\n",
    "plt.xlabel('Predicted Price')\n",
    "plt.ylabel('Actual Price')\n",
    "plt.title('Linear Regression Model')\n",
    "plt.show()"
   ]
  },
  {
   "cell_type": "code",
   "execution_count": 35,
   "id": "ec4dd925-23a7-433d-90b9-6890bbe98d63",
   "metadata": {},
   "outputs": [
    {
     "name": "stdout",
     "output_type": "stream",
     "text": [
      "Mean Absolute Error: 1669243.3615216848\n",
      "Mean Squared Error: 5913217630623.302\n",
      "Root Mean Squared Error: 2431710.84436931\n",
      "r^2: 0.10238590445014917\n"
     ]
    }
   ],
   "source": [
    "from sklearn import metrics\n",
    "mae = metrics.mean_absolute_error(y_train, predictions)\n",
    "mse = metrics.mean_squared_error(y_train, predictions)\n",
    "rmse = np.sqrt(mse) # or mse**(0.5)  \n",
    "r2 = metrics.r2_score(y_train,predictions)\n",
    "print('Mean Absolute Error:', mae)\n",
    "print('Mean Squared Error:', mse)\n",
    "print('Root Mean Squared Error:', rmse)\n",
    "print('r^2:', r2)"
   ]
  },
  {
   "cell_type": "code",
   "execution_count": 36,
   "id": "d4fca6d7-5be6-4101-9a71-32bf3ac8692c",
   "metadata": {},
   "outputs": [],
   "source": [
    "#positively corelated positive features\n",
    "y_train=train['revenue']\n",
    "X_train=train[['P2','P28','P6','P21','P11']]"
   ]
  },
  {
   "cell_type": "code",
   "execution_count": 37,
   "id": "6013418c-a712-4e65-a643-a00c9be67f65",
   "metadata": {},
   "outputs": [],
   "source": [
    "#training the model\n",
    "from sklearn import linear_model\n",
    "lr = linear_model.LinearRegression()\n",
    "model = lr.fit(X_train, y_train)\n",
    "predictions=model.predict(X_train)"
   ]
  },
  {
   "cell_type": "code",
   "execution_count": 38,
   "id": "25d306e4-a857-4983-890d-86462f4c4f98",
   "metadata": {},
   "outputs": [
    {
     "data": {
      "image/png": "[encoded data removed]",
      "text/plain": [
       "<Figure size 432x288 with 1 Axes>"
      ]
     },
     "metadata": {
      "needs_background": "light"
     },
     "output_type": "display_data"
    }
   ],
   "source": [
    "import matplotlib.pyplot as plt\n",
    "plt.scatter(predictions, y_train, color='b')\n",
    "plt.xlabel('Predicted Price')\n",
    "plt.ylabel('Actual Price')\n",
    "plt.title('Linear Regression Model')\n",
    "plt.show()"
   ]
  },
  {
   "cell_type": "code",
   "execution_count": 39,
   "id": "c496a765-f3da-47c1-bbde-9fb458fdc47c",
   "metadata": {},
   "outputs": [
    {
     "name": "stdout",
     "output_type": "stream",
     "text": [
      "Mean Absolute Error: 1637530.083762989\n",
      "Mean Squared Error: 6339957718304.595\n",
      "Root Mean Squared Error: 2517927.266285624\n",
      "r^2: 0.037607649739011206\n"
     ]
    }
   ],
   "source": [
    "from sklearn import metrics\n",
    "mae = metrics.mean_absolute_error(y_train, predictions)\n",
    "mse = metrics.mean_squared_error(y_train, predictions)\n",
    "rmse = np.sqrt(mse) # or mse**(0.5)  \n",
    "r2 = metrics.r2_score(y_train,predictions)\n",
    "print('Mean Absolute Error:', mae)\n",
    "print('Mean Squared Error:', mse)\n",
    "print('Root Mean Squared Error:', rmse)\n",
    "print('r^2:', r2)"
   ]
  },
  {
   "cell_type": "code",
   "execution_count": null,
   "id": "4cec730b-c1ad-4beb-8433-dd13dd23d683",
   "metadata": {},
   "outputs": [],
   "source": []
  }
 ],
 "metadata": {
  "kernelspec": {
   "display_name": "Python 3 (ipykernel)",
   "language": "python",
   "name": "python3"
  },
  "language_info": {
   "codemirror_mode": {
    "name": "ipython",
    "version": 3
   },
   "file_extension": ".py",
   "mimetype": "text/x-python",
   "name": "python",
   "nbconvert_exporter": "python",
   "pygments_lexer": "ipython3",
   "version": "3.9.6"
  }
 },
 "nbformat": 4,
 "nbformat_minor": 5
}
